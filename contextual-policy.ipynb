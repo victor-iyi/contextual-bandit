{
 "cells": [
  {
   "cell_type": "code",
   "execution_count": 1,
   "metadata": {
    "collapsed": true
   },
   "outputs": [],
   "source": [
    "import numpy as np\n",
    "import tensorflow as tf\n",
    "\n",
    "slim = tf.contrib.slim"
   ]
  },
  {
   "cell_type": "markdown",
   "metadata": {},
   "source": [
    "### The `ContextualBandit` (Slot machine)"
   ]
  },
  {
   "cell_type": "code",
   "execution_count": null,
   "metadata": {
    "collapsed": true
   },
   "outputs": [],
   "source": [
    "class ContextualBandit():\n",
    "    \"\"\"\n",
    "    Contextual Bandit class.\n",
    "    \n",
    "    A three four-armed bandit is being used here. \n",
    "    What this means is that each bandit has four arms that can \n",
    "    be pulled. \n",
    "    \n",
    "    Each bandit has different success probabilities for \n",
    "    each arm, and as such requires different actions to \n",
    "    obtain the best result.\n",
    "    \n",
    "    The agent should learn how to always choose the \n",
    "    bandit-arm that will most often give a positive \n",
    "    reward, depending on the Bandit presented.\n",
    "    \n",
    "    -------- Attributes -------\n",
    "    :bandits\n",
    "    :states\n",
    "    :num_bandits\n",
    "    :num_actions\n",
    "    \n",
    "    -------- Methods --------\n",
    "    getBandit:\n",
    "        Returns a random state.\n",
    "    pullBandit:\n",
    "        Returns a reward for an action.\n",
    "    \"\"\"\n",
    "    \n",
    "    def __init__(self):\n",
    "        self.bandits = np.array([[.2,  0, -0,  -5],\n",
    "                                 [.1, -5,  1, .25],\n",
    "                                 [-5,  5,  5,   5]])\n",
    "        self.state = 0\n",
    "        self.num_bandits = self.bandits.shape[0]\n",
    "        self.num_actions = self.bandits.shape[1]\n",
    "    \n",
    "    def getBandit(self):\n",
    "        \"\"\"Returns a random state\"\"\"\n",
    "        self.state = np.random.randn(0, len(self.bandits))\n",
    "        return self.state\n",
    "    \n",
    "    def pullBandit(self, action):\n",
    "        \"\"\"\n",
    "        Returns a reward for an action.\n",
    "        \n",
    "        A random number from a normal distribution with a mean of 0\n",
    "        is generated. The lower the bandit number, the more likely \n",
    "        a positive reward will be returned. \n",
    "        \"\"\"\n",
    "        bandit = self.bandits[self.state, action]\n",
    "        result = np.random.randn(1)\n",
    "        return 1 if result > bandit else -1"
   ]
  },
  {
   "cell_type": "markdown",
   "metadata": {},
   "source": [
    "### The `Agent` (Gambler)"
   ]
  },
  {
   "cell_type": "code",
   "execution_count": null,
   "metadata": {
    "collapsed": true
   },
   "outputs": [],
   "source": [
    "class Agent():\n",
    "    \"\"\"\n",
    "    The agent takes as input the current state, and returns an action. \n",
    "    \n",
    "    This allows the agent to take actions which are conditioned \n",
    "    on the state of the environment, a critical step toward being \n",
    "    able to solve full RL problems. \n",
    "    \n",
    "    The agent uses a single set of weights, within which each \n",
    "    value is an estimate of the value of the return from choosing \n",
    "    a particular arm given a bandit.\n",
    "    \n",
    "    A policy gradient method is used to update the agent \n",
    "    by moving the value for the selected action toward the \n",
    "    recieved reward.\n",
    "    \n",
    "    :param learning_rate: float\n",
    "    :param state_size: int\n",
    "    :param action_size: int\n",
    "    \"\"\"\n",
    "    \n",
    "    def __init__(self, learning_rate, state_size, action_size):\n",
    "        # inputs\n",
    "        self.state = tf.placeholder(tf.int32, shape=[1])\n",
    "        state_oh = tf.contrib.layers.one_hot_encoding(self.state, state_size)\n",
    "        # feed forward net\n",
    "        output = tf.contrib.layers.fully_connected(state_oh, action_size,\n",
    "                                                   activation_fn=tf.nn.sigmoid,\n",
    "                                                   weights_initializer=tf.ones_initializer(),\n",
    "                                                   biases_initializer=None)\n",
    "        # action & network output\n",
    "        self.output = tf.reshape(output, shape=[-1])\n",
    "        self.action = tf.argmax(self.output, axis=0)\n",
    "        # reward, action, weights\n",
    "        self.reward_holder = tf.placeholder(tf.float32, shape=[1])\n",
    "        self.action_holder = tf.placeholder(tf.int32, shape=[1])\n",
    "        self.weight = tf.slice(self.output, self.action_holder, size=[1])\n",
    "        # loss function\n",
    "        loss = -(tf.log(self.weight) * self.reward_holder)\n",
    "        # Optimizer\n",
    "        global_step = tf.Variable(0, trainable=False, name='global_step')\n",
    "        optimzer = tf.train.AdamOptimizer(learning_rate=learning_rate)\n",
    "        self.trainer = optimizer.minimize(loss, global_step=global_step)"
   ]
  },
  {
   "cell_type": "code",
   "execution_count": null,
   "metadata": {
    "collapsed": true
   },
   "outputs": [],
   "source": []
  },
  {
   "cell_type": "code",
   "execution_count": null,
   "metadata": {
    "collapsed": true
   },
   "outputs": [],
   "source": []
  }
 ],
 "metadata": {
  "kernelspec": {
   "display_name": "Python 3",
   "language": "python",
   "name": "python3"
  },
  "language_info": {
   "codemirror_mode": {
    "name": "ipython",
    "version": 3
   },
   "file_extension": ".py",
   "mimetype": "text/x-python",
   "name": "python",
   "nbconvert_exporter": "python",
   "pygments_lexer": "ipython3",
   "version": "3.6.3"
  }
 },
 "nbformat": 4,
 "nbformat_minor": 2
}
